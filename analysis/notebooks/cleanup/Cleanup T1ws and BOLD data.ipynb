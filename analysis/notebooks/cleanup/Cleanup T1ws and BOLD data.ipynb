{
 "cells": [
  {
   "cell_type": "code",
   "execution_count": 1,
   "metadata": {},
   "outputs": [],
   "source": [
    "from bids import BIDSLayout"
   ]
  },
  {
   "cell_type": "code",
   "execution_count": 2,
   "metadata": {},
   "outputs": [],
   "source": [
    "layout = BIDSLayout('/data/risk_precision/garcia_ruff_risk_precision_fmri/', validate=False)"
   ]
  },
  {
   "cell_type": "code",
   "execution_count": 3,
   "metadata": {},
   "outputs": [],
   "source": [
    "df = layout.to_df()"
   ]
  },
  {
   "cell_type": "code",
   "execution_count": 4,
   "metadata": {},
   "outputs": [
    {
     "data": {
      "text/plain": [
       "array([nan, '11927', '19131', '20466', '21246', '24613', '24626', '24933',\n",
       "       '25427', '26753', '26867', '26905', '28051', '30130', '30451',\n",
       "       '30733', '31422', '31724', '31814', '32091', '32829', '33156',\n",
       "       '33464', '33524', '34501', '34626', '35091', '35092', '35114',\n",
       "       '35177', '35202', '35721', '35982', '36874', '37073', '37257',\n",
       "       '37268', '37305', '37368', '37982', '38312', '38422', '38629',\n",
       "       '38726', '38940', '38972', '39010', '39051', '39089', '39115',\n",
       "       '39152', '39166', '39180', '39203', '39283', '39509', '39572',\n",
       "       '39575', '39627', '39693', '39903', '39960', '39999', '40048',\n",
       "       '40359', '40425'], dtype=object)"
      ]
     },
     "execution_count": 4,
     "metadata": {},
     "output_type": "execute_result"
    }
   ],
   "source": [
    "df.subject.unique()"
   ]
  },
  {
   "cell_type": "code",
   "execution_count": 5,
   "metadata": {},
   "outputs": [],
   "source": [
    "df = df[~df.subject.isnull()]"
   ]
  },
  {
   "cell_type": "code",
   "execution_count": 25,
   "metadata": {},
   "outputs": [],
   "source": [
    "import re\n",
    "import json\n",
    "metadata = df[df.suffix == 'sessions']\n",
    "\n",
    "reg = re.compile('SNS_RPREC_(?P<subject_id>[X0-9]+)_[0-9]+')\n",
    "\n",
    "def get_original_subject_id(row):\n",
    "    with open(row.path) as f:\n",
    "        d = json.load(f)[0]\n",
    "        return reg.match(d['MRI_KEY']).group(1)\n",
    "    \n",
    "ori_ids = metadata.apply(get_original_subject_id, 1)\n",
    "ori_ids[ori_ids == '21X'] = 21\n",
    "ori_ids = ori_ids.astype(int).to_frame('id')\n",
    "ori_ids = ori_ids.set_index(metadata.subject)"
   ]
  },
  {
   "cell_type": "code",
   "execution_count": 28,
   "metadata": {},
   "outputs": [
    {
     "data": {
      "text/html": [
       "<div>\n",
       "<style scoped>\n",
       "    .dataframe tbody tr th:only-of-type {\n",
       "        vertical-align: middle;\n",
       "    }\n",
       "\n",
       "    .dataframe tbody tr th {\n",
       "        vertical-align: top;\n",
       "    }\n",
       "\n",
       "    .dataframe thead th {\n",
       "        text-align: right;\n",
       "    }\n",
       "</style>\n",
       "<table border=\"1\" class=\"dataframe\">\n",
       "  <thead>\n",
       "    <tr style=\"text-align: right;\">\n",
       "      <th></th>\n",
       "      <th>id</th>\n",
       "    </tr>\n",
       "    <tr>\n",
       "      <th>subject</th>\n",
       "      <th></th>\n",
       "    </tr>\n",
       "  </thead>\n",
       "  <tbody>\n",
       "    <tr>\n",
       "      <th>37982</th>\n",
       "      <td>21</td>\n",
       "    </tr>\n",
       "  </tbody>\n",
       "</table>\n",
       "</div>"
      ],
      "text/plain": [
       "         id\n",
       "subject    \n",
       "37982    21"
      ]
     },
     "execution_count": 28,
     "metadata": {},
     "output_type": "execute_result"
    }
   ],
   "source": [
    "ori_ids[ori_ids.id == 21]"
   ]
  },
  {
   "cell_type": "code",
   "execution_count": 30,
   "metadata": {},
   "outputs": [],
   "source": [
    "t1w = df[(df.suffix == 'T1w') & (df.extension != 'json')]"
   ]
  },
  {
   "cell_type": "code",
   "execution_count": 32,
   "metadata": {},
   "outputs": [],
   "source": [
    "import nibabel as nb"
   ]
  },
  {
   "cell_type": "code",
   "execution_count": 34,
   "metadata": {},
   "outputs": [
    {
     "name": "stderr",
     "output_type": "stream",
     "text": [
      "/Users/gdehol/miniconda3/lib/python3.7/site-packages/ipykernel_launcher.py:1: SettingWithCopyWarning: \n",
      "A value is trying to be set on a copy of a slice from a DataFrame.\n",
      "Try using .loc[row_indexer,col_indexer] = value instead\n",
      "\n",
      "See the caveats in the documentation: http://pandas.pydata.org/pandas-docs/stable/indexing.html#indexing-view-versus-copy\n",
      "  \"\"\"Entry point for launching an IPython kernel.\n"
     ]
    }
   ],
   "source": [
    "t1w['n_slices'] = t1w.path.apply(lambda t: nb.load(t).shape[-1])"
   ]
  },
  {
   "cell_type": "code",
   "execution_count": 38,
   "metadata": {},
   "outputs": [
    {
     "data": {
      "text/plain": [
       "subject\n",
       "32829    2\n",
       "dtype: int64"
      ]
     },
     "execution_count": 38,
     "metadata": {},
     "output_type": "execute_result"
    }
   ],
   "source": [
    "tmp = t1w[t1w.n_slices ==170].groupby(['subject']).size()\n",
    "tmp[tmp > 1]"
   ]
  },
  {
   "cell_type": "code",
   "execution_count": 39,
   "metadata": {},
   "outputs": [],
   "source": [
    "t1w = t1w[t1w.n_slices == 170]"
   ]
  },
  {
   "cell_type": "code",
   "execution_count": 42,
   "metadata": {},
   "outputs": [],
   "source": [
    "import os\n",
    "import os.path as op"
   ]
  },
  {
   "cell_type": "code",
   "execution_count": 48,
   "metadata": {},
   "outputs": [],
   "source": [
    "import shutil"
   ]
  },
  {
   "cell_type": "code",
   "execution_count": 59,
   "metadata": {},
   "outputs": [
    {
     "data": {
      "text/plain": [
       "'nii.gz'"
      ]
     },
     "execution_count": 59,
     "metadata": {},
     "output_type": "execute_result"
    }
   ],
   "source": [
    "row.extension"
   ]
  },
  {
   "cell_type": "code",
   "execution_count": 63,
   "metadata": {},
   "outputs": [],
   "source": [
    "import gzip"
   ]
  },
  {
   "cell_type": "code",
   "execution_count": 62,
   "metadata": {},
   "outputs": [
    {
     "name": "stdout",
     "output_type": "stream",
     "text": [
      "compressing /data/risk_precision/garcia_ruff_risk_precision_fmri/sub-19131/ses-21869/anat/sub-19131_ses-21869_acq-11_rec-1_T1w.nii -> /data/risk_precision/ds-risk/sourcedata/sub-3/anat/sub-3_acq-11_T1w.nii.gz\n",
      "compressing /data/risk_precision/garcia_ruff_risk_precision_fmri/sub-24613/ses-21916/anat/sub-24613_ses-21916_acq-11_rec-1_T1w.nii -> /data/risk_precision/ds-risk/sourcedata/sub-2/anat/sub-2_acq-11_T1w.nii.gz\n",
      "compressing /data/risk_precision/garcia_ruff_risk_precision_fmri/sub-33524/ses-21702/anat/sub-33524_ses-21702_acq-11_rec-1_T1w.nii -> /data/risk_precision/ds-risk/sourcedata/sub-0/anat/sub-0_acq-11_T1w.nii.gz\n",
      "compressing /data/risk_precision/garcia_ruff_risk_precision_fmri/sub-35721/ses-21870/anat/sub-35721_ses-21870_acq-11_rec-1_T1w.nii -> /data/risk_precision/ds-risk/sourcedata/sub-4/anat/sub-4_acq-11_T1w.nii.gz\n",
      "compressing /data/risk_precision/garcia_ruff_risk_precision_fmri/sub-38422/ses-21867/anat/sub-38422_ses-21867_acq-11_rec-1_T1w.nii -> /data/risk_precision/ds-risk/sourcedata/sub-1/anat/sub-1_acq-11_T1w.nii.gz\n"
     ]
    }
   ],
   "source": [
    "for ix, row in t1w.iterrows():\n",
    "    \n",
    "    if row.subject != '32829':\n",
    "        \n",
    "        ori_id = ori_ids.loc[row.subject].id\n",
    "\n",
    "        base_dir = '/data/risk_precision/ds-risk/sourcedata/sub-{}/anat'.format(ori_id)\n",
    "        if not op.exists(base_dir):\n",
    "            os.makedirs(base_dir)\n",
    "\n",
    "        \n",
    "        t1w_fn = op.join(base_dir, 'sub-{}_acq-{}_T1w.nii.gz').format(ori_id, row.acquisition)\n",
    "        \n",
    "        if row.extension == 'nii':\n",
    "            print('compressing {} -> {}'.format(row.path, t1w_fn))\n",
    "            with open(row.path, 'rb') as f_in:\n",
    "                with gzip.open(t1w_fn, 'wb') as f_out:\n",
    "                    shutil.copyfileobj(f_in, f_out)\n",
    "        elif row.extension == 'nii.gz':\n",
    "            shutil.copy(row.path, t1w_fn)\n",
    "        else:\n",
    "            raise Exception('wut?')\n",
    "        \n",
    "        \n"
   ]
  },
  {
   "cell_type": "code",
   "execution_count": 64,
   "metadata": {},
   "outputs": [],
   "source": [
    "bold = df[(df.suffix == 'bold') & (df.extension != 'json')]"
   ]
  },
  {
   "cell_type": "code",
   "execution_count": 67,
   "metadata": {},
   "outputs": [
    {
     "name": "stdout",
     "output_type": "stream",
     "text": [
      "compressing /data/risk_precision/garcia_ruff_risk_precision_fmri/sub-19131/ses-21869/func/sub-19131_ses-21869_task-fmri_acq-3_rec-1_run-1_bold.nii -> /data/risk_precision/ds-risk/sourcedata/sub-3/func/sub-3_task-numrisk_acq-3_run-1_bold.nii.gz\n",
      "compressing /data/risk_precision/garcia_ruff_risk_precision_fmri/sub-19131/ses-21869/func/sub-19131_ses-21869_task-fmri_acq-4_rec-1_run-2_bold.nii -> /data/risk_precision/ds-risk/sourcedata/sub-3/func/sub-3_task-numrisk_acq-4_run-2_bold.nii.gz\n",
      "compressing /data/risk_precision/garcia_ruff_risk_precision_fmri/sub-19131/ses-21869/func/sub-19131_ses-21869_task-fmri_acq-5_rec-1_run-3_bold.nii -> /data/risk_precision/ds-risk/sourcedata/sub-3/func/sub-3_task-numrisk_acq-5_run-3_bold.nii.gz\n",
      "compressing /data/risk_precision/garcia_ruff_risk_precision_fmri/sub-19131/ses-21869/func/sub-19131_ses-21869_task-fmri_acq-7_rec-1_run-4_bold.nii -> /data/risk_precision/ds-risk/sourcedata/sub-3/func/sub-3_task-numrisk_acq-7_run-4_bold.nii.gz\n",
      "compressing /data/risk_precision/garcia_ruff_risk_precision_fmri/sub-19131/ses-21869/func/sub-19131_ses-21869_task-fmri_acq-8_rec-1_run-5_bold.nii -> /data/risk_precision/ds-risk/sourcedata/sub-3/func/sub-3_task-numrisk_acq-8_run-5_bold.nii.gz\n",
      "compressing /data/risk_precision/garcia_ruff_risk_precision_fmri/sub-19131/ses-21869/func/sub-19131_ses-21869_task-fmri_acq-9_rec-1_run-6_bold.nii -> /data/risk_precision/ds-risk/sourcedata/sub-3/func/sub-3_task-numrisk_acq-9_run-6_bold.nii.gz\n",
      "compressing /data/risk_precision/garcia_ruff_risk_precision_fmri/sub-24613/ses-21916/func/sub-24613_ses-21916_task-fmri_acq-3_rec-1_run-1_bold.nii -> /data/risk_precision/ds-risk/sourcedata/sub-2/func/sub-2_task-numrisk_acq-3_run-1_bold.nii.gz\n",
      "compressing /data/risk_precision/garcia_ruff_risk_precision_fmri/sub-24613/ses-21916/func/sub-24613_ses-21916_task-fmri_acq-4_rec-1_run-2_bold.nii -> /data/risk_precision/ds-risk/sourcedata/sub-2/func/sub-2_task-numrisk_acq-4_run-2_bold.nii.gz\n",
      "compressing /data/risk_precision/garcia_ruff_risk_precision_fmri/sub-24613/ses-21916/func/sub-24613_ses-21916_task-fmri_acq-5_rec-1_run-3_bold.nii -> /data/risk_precision/ds-risk/sourcedata/sub-2/func/sub-2_task-numrisk_acq-5_run-3_bold.nii.gz\n",
      "compressing /data/risk_precision/garcia_ruff_risk_precision_fmri/sub-24613/ses-21916/func/sub-24613_ses-21916_task-fmri_acq-7_rec-1_run-4_bold.nii -> /data/risk_precision/ds-risk/sourcedata/sub-2/func/sub-2_task-numrisk_acq-7_run-4_bold.nii.gz\n",
      "compressing /data/risk_precision/garcia_ruff_risk_precision_fmri/sub-24613/ses-21916/func/sub-24613_ses-21916_task-fmri_acq-8_rec-1_run-5_bold.nii -> /data/risk_precision/ds-risk/sourcedata/sub-2/func/sub-2_task-numrisk_acq-8_run-5_bold.nii.gz\n",
      "compressing /data/risk_precision/garcia_ruff_risk_precision_fmri/sub-24613/ses-21916/func/sub-24613_ses-21916_task-fmri_acq-9_rec-1_run-6_bold.nii -> /data/risk_precision/ds-risk/sourcedata/sub-2/func/sub-2_task-numrisk_acq-9_run-6_bold.nii.gz\n",
      "compressing /data/risk_precision/garcia_ruff_risk_precision_fmri/sub-33524/ses-21702/func/sub-33524_ses-21702_task-fmri_acq-10_rec-1_run-6_bold.nii -> /data/risk_precision/ds-risk/sourcedata/sub-0/func/sub-0_task-numrisk_acq-10_run-6_bold.nii.gz\n",
      "compressing /data/risk_precision/garcia_ruff_risk_precision_fmri/sub-33524/ses-21702/func/sub-33524_ses-21702_task-fmri_acq-4_rec-1_run-1_bold.nii -> /data/risk_precision/ds-risk/sourcedata/sub-0/func/sub-0_task-numrisk_acq-4_run-1_bold.nii.gz\n",
      "compressing /data/risk_precision/garcia_ruff_risk_precision_fmri/sub-33524/ses-21702/func/sub-33524_ses-21702_task-fmri_acq-5_rec-1_run-2_bold.nii -> /data/risk_precision/ds-risk/sourcedata/sub-0/func/sub-0_task-numrisk_acq-5_run-2_bold.nii.gz\n",
      "compressing /data/risk_precision/garcia_ruff_risk_precision_fmri/sub-33524/ses-21702/func/sub-33524_ses-21702_task-fmri_acq-6_rec-1_run-3_bold.nii -> /data/risk_precision/ds-risk/sourcedata/sub-0/func/sub-0_task-numrisk_acq-6_run-3_bold.nii.gz\n",
      "compressing /data/risk_precision/garcia_ruff_risk_precision_fmri/sub-33524/ses-21702/func/sub-33524_ses-21702_task-fmri_acq-8_rec-1_run-4_bold.nii -> /data/risk_precision/ds-risk/sourcedata/sub-0/func/sub-0_task-numrisk_acq-8_run-4_bold.nii.gz\n",
      "compressing /data/risk_precision/garcia_ruff_risk_precision_fmri/sub-33524/ses-21702/func/sub-33524_ses-21702_task-fmri_acq-9_rec-1_run-5_bold.nii -> /data/risk_precision/ds-risk/sourcedata/sub-0/func/sub-0_task-numrisk_acq-9_run-5_bold.nii.gz\n",
      "compressing /data/risk_precision/garcia_ruff_risk_precision_fmri/sub-35721/ses-21870/func/sub-35721_ses-21870_task-fmri_acq-3_rec-1_run-1_bold.nii -> /data/risk_precision/ds-risk/sourcedata/sub-4/func/sub-4_task-numrisk_acq-3_run-1_bold.nii.gz\n",
      "compressing /data/risk_precision/garcia_ruff_risk_precision_fmri/sub-35721/ses-21870/func/sub-35721_ses-21870_task-fmri_acq-4_rec-1_run-2_bold.nii -> /data/risk_precision/ds-risk/sourcedata/sub-4/func/sub-4_task-numrisk_acq-4_run-2_bold.nii.gz\n",
      "compressing /data/risk_precision/garcia_ruff_risk_precision_fmri/sub-35721/ses-21870/func/sub-35721_ses-21870_task-fmri_acq-5_rec-1_run-3_bold.nii -> /data/risk_precision/ds-risk/sourcedata/sub-4/func/sub-4_task-numrisk_acq-5_run-3_bold.nii.gz\n",
      "compressing /data/risk_precision/garcia_ruff_risk_precision_fmri/sub-35721/ses-21870/func/sub-35721_ses-21870_task-fmri_acq-7_rec-1_run-4_bold.nii -> /data/risk_precision/ds-risk/sourcedata/sub-4/func/sub-4_task-numrisk_acq-7_run-4_bold.nii.gz\n",
      "compressing /data/risk_precision/garcia_ruff_risk_precision_fmri/sub-35721/ses-21870/func/sub-35721_ses-21870_task-fmri_acq-8_rec-1_run-5_bold.nii -> /data/risk_precision/ds-risk/sourcedata/sub-4/func/sub-4_task-numrisk_acq-8_run-5_bold.nii.gz\n",
      "compressing /data/risk_precision/garcia_ruff_risk_precision_fmri/sub-35721/ses-21870/func/sub-35721_ses-21870_task-fmri_acq-9_rec-1_run-6_bold.nii -> /data/risk_precision/ds-risk/sourcedata/sub-4/func/sub-4_task-numrisk_acq-9_run-6_bold.nii.gz\n",
      "compressing /data/risk_precision/garcia_ruff_risk_precision_fmri/sub-38422/ses-21867/func/sub-38422_ses-21867_task-fmri_acq-3_rec-1_run-1_bold.nii -> /data/risk_precision/ds-risk/sourcedata/sub-1/func/sub-1_task-numrisk_acq-3_run-1_bold.nii.gz\n",
      "compressing /data/risk_precision/garcia_ruff_risk_precision_fmri/sub-38422/ses-21867/func/sub-38422_ses-21867_task-fmri_acq-4_rec-1_run-2_bold.nii -> /data/risk_precision/ds-risk/sourcedata/sub-1/func/sub-1_task-numrisk_acq-4_run-2_bold.nii.gz\n",
      "compressing /data/risk_precision/garcia_ruff_risk_precision_fmri/sub-38422/ses-21867/func/sub-38422_ses-21867_task-fmri_acq-5_rec-1_run-3_bold.nii -> /data/risk_precision/ds-risk/sourcedata/sub-1/func/sub-1_task-numrisk_acq-5_run-3_bold.nii.gz\n",
      "compressing /data/risk_precision/garcia_ruff_risk_precision_fmri/sub-38422/ses-21867/func/sub-38422_ses-21867_task-fmri_acq-7_rec-1_run-4_bold.nii -> /data/risk_precision/ds-risk/sourcedata/sub-1/func/sub-1_task-numrisk_acq-7_run-4_bold.nii.gz\n",
      "compressing /data/risk_precision/garcia_ruff_risk_precision_fmri/sub-38422/ses-21867/func/sub-38422_ses-21867_task-fmri_acq-8_rec-1_run-5_bold.nii -> /data/risk_precision/ds-risk/sourcedata/sub-1/func/sub-1_task-numrisk_acq-8_run-5_bold.nii.gz\n",
      "compressing /data/risk_precision/garcia_ruff_risk_precision_fmri/sub-38422/ses-21867/func/sub-38422_ses-21867_task-fmri_acq-9_rec-1_run-6_bold.nii -> /data/risk_precision/ds-risk/sourcedata/sub-1/func/sub-1_task-numrisk_acq-9_run-6_bold.nii.gz\n"
     ]
    }
   ],
   "source": [
    "for ix, row in bold.iterrows():\n",
    "    \n",
    "    if row.subject != '32829':\n",
    "        \n",
    "        ori_id = ori_ids.loc[row.subject].id\n",
    "\n",
    "        base_dir = '/data/risk_precision/ds-risk/sourcedata/sub-{}/func'.format(ori_id)\n",
    "        if not op.exists(base_dir):\n",
    "            os.makedirs(base_dir)\n",
    "        \n",
    "        bold_fn = op.join(base_dir, 'sub-{}_task-numrisk_acq-{}_run-{}_bold.nii.gz').format(ori_id, row.acquisition, row.run)\n",
    "        \n",
    "        if row.extension == 'nii':\n",
    "            print('compressing {} -> {}'.format(row.path, bold_fn))\n",
    "            with open(row.path, 'rb') as f_in:\n",
    "                with gzip.open(bold_fn, 'wb') as f_out:\n",
    "                    shutil.copyfileobj(f_in, f_out)\n",
    "        elif row.extension == 'nii.gz':\n",
    "            shutil.copy(row.path, bold_fn)\n",
    "        else:\n",
    "            raise Exception('wut?')"
   ]
  },
  {
   "cell_type": "code",
   "execution_count": null,
   "metadata": {},
   "outputs": [],
   "source": []
  }
 ],
 "metadata": {
  "kernelspec": {
   "display_name": "Python 3",
   "language": "python",
   "name": "python3"
  },
  "language_info": {
   "codemirror_mode": {
    "name": "ipython",
    "version": 3
   },
   "file_extension": ".py",
   "mimetype": "text/x-python",
   "name": "python",
   "nbconvert_exporter": "python",
   "pygments_lexer": "ipython3",
   "version": "3.7.3"
  }
 },
 "nbformat": 4,
 "nbformat_minor": 2
}
